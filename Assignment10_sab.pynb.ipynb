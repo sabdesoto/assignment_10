{
 "cells": [
  {
   "cell_type": "markdown",
   "metadata": {},
   "source": [
    "#Test Driven Development\n",
    "goal: create a function that will look at a refrence a data table and for any specified values over a threshold it will append them to a list and print that list."
   ]
  },
  {
   "cell_type": "code",
   "execution_count": 3,
   "metadata": {
    "collapsed": false
   },
   "outputs": [],
   "source": [
    "#Import libraries\n",
    "import pandas as pd\n",
    "import numpy as np"
   ]
  },
  {
   "cell_type": "code",
   "execution_count": 254,
   "metadata": {
    "collapsed": false
   },
   "outputs": [
    {
     "data": {
      "text/html": [
       "<div>\n",
       "<table border=\"1\" class=\"dataframe\">\n",
       "  <thead>\n",
       "    <tr style=\"text-align: right;\">\n",
       "      <th></th>\n",
       "      <th>Unnamed: 0</th>\n",
       "      <th>Channel</th>\n",
       "      <th>IF</th>\n",
       "      <th>Polar</th>\n",
       "      <th>Frequency</th>\n",
       "      <th>Velocity</th>\n",
       "      <th>Ampl(Jy)</th>\n",
       "      <th>Phase</th>\n",
       "    </tr>\n",
       "  </thead>\n",
       "  <tbody>\n",
       "    <tr>\n",
       "      <th>0</th>\n",
       "      <td>0</td>\n",
       "      <td>1</td>\n",
       "      <td>1</td>\n",
       "      <td>RR</td>\n",
       "      <td>1720.8099</td>\n",
       "      <td>0</td>\n",
       "      <td>FLAGGED</td>\n",
       "      <td>NaN</td>\n",
       "    </tr>\n",
       "    <tr>\n",
       "      <th>1</th>\n",
       "      <td>1</td>\n",
       "      <td>2</td>\n",
       "      <td>1</td>\n",
       "      <td>RR</td>\n",
       "      <td>1720.8093</td>\n",
       "      <td>0</td>\n",
       "      <td>0.258678E-03</td>\n",
       "      <td>6.040</td>\n",
       "    </tr>\n",
       "    <tr>\n",
       "      <th>2</th>\n",
       "      <td>2</td>\n",
       "      <td>3</td>\n",
       "      <td>1</td>\n",
       "      <td>RR</td>\n",
       "      <td>1720.8087</td>\n",
       "      <td>0</td>\n",
       "      <td>0.463556E-03</td>\n",
       "      <td>-95.605</td>\n",
       "    </tr>\n",
       "    <tr>\n",
       "      <th>3</th>\n",
       "      <td>3</td>\n",
       "      <td>4</td>\n",
       "      <td>1</td>\n",
       "      <td>RR</td>\n",
       "      <td>1720.8081</td>\n",
       "      <td>0</td>\n",
       "      <td>0.522407E-03</td>\n",
       "      <td>-106.389</td>\n",
       "    </tr>\n",
       "    <tr>\n",
       "      <th>4</th>\n",
       "      <td>4</td>\n",
       "      <td>5</td>\n",
       "      <td>1</td>\n",
       "      <td>RR</td>\n",
       "      <td>1720.8075</td>\n",
       "      <td>0</td>\n",
       "      <td>0.422755E-03</td>\n",
       "      <td>-20.039</td>\n",
       "    </tr>\n",
       "  </tbody>\n",
       "</table>\n",
       "</div>"
      ],
      "text/plain": [
       "   Unnamed: 0  Channel  IF Polar  Frequency  Velocity      Ampl(Jy)    Phase\n",
       "0           0        1   1    RR  1720.8099         0       FLAGGED      NaN\n",
       "1           1        2   1    RR  1720.8093         0  0.258678E-03    6.040\n",
       "2           2        3   1    RR  1720.8087         0  0.463556E-03  -95.605\n",
       "3           3        4   1    RR  1720.8081         0  0.522407E-03 -106.389\n",
       "4           4        5   1    RR  1720.8075         0  0.422755E-03  -20.039"
      ]
     },
     "execution_count": 254,
     "metadata": {},
     "output_type": "execute_result"
    }
   ],
   "source": [
    "#Load data  \n",
    "data_long= pd.read_table('Data_chunk1.csv', delimiter=',')\n",
    "data_long.head()"
   ]
  },
  {
   "cell_type": "code",
   "execution_count": 316,
   "metadata": {
    "collapsed": false
   },
   "outputs": [
    {
     "name": "stderr",
     "output_type": "stream",
     "text": [
      "/Users/sabrinadesoto/anaconda/lib/python3.4/site-packages/IPython/kernel/__main__.py:8: SettingWithCopyWarning: \n",
      "A value is trying to be set on a copy of a slice from a DataFrame.\n",
      "Try using .loc[row_indexer,col_indexer] = value instead\n",
      "\n",
      "See the caveats in the documentation: http://pandas.pydata.org/pandas-docs/stable/indexing.html#indexing-view-versus-copy\n"
     ]
    },
    {
     "data": {
      "text/html": [
       "<div>\n",
       "<table border=\"1\" class=\"dataframe\">\n",
       "  <thead>\n",
       "    <tr style=\"text-align: right;\">\n",
       "      <th></th>\n",
       "      <th>Unnamed</th>\n",
       "      <th>Channel</th>\n",
       "      <th>IF</th>\n",
       "      <th>Polar</th>\n",
       "      <th>Frequency</th>\n",
       "      <th>Velocity</th>\n",
       "      <th>Amplitude</th>\n",
       "      <th>Phase</th>\n",
       "    </tr>\n",
       "  </thead>\n",
       "  <tbody>\n",
       "    <tr>\n",
       "      <th>1</th>\n",
       "      <td>1</td>\n",
       "      <td>2</td>\n",
       "      <td>1</td>\n",
       "      <td>RR</td>\n",
       "      <td>1720.8093</td>\n",
       "      <td>0</td>\n",
       "      <td>0.000259</td>\n",
       "      <td>6.040</td>\n",
       "    </tr>\n",
       "    <tr>\n",
       "      <th>2</th>\n",
       "      <td>2</td>\n",
       "      <td>3</td>\n",
       "      <td>1</td>\n",
       "      <td>RR</td>\n",
       "      <td>1720.8087</td>\n",
       "      <td>0</td>\n",
       "      <td>0.000464</td>\n",
       "      <td>-95.605</td>\n",
       "    </tr>\n",
       "    <tr>\n",
       "      <th>3</th>\n",
       "      <td>3</td>\n",
       "      <td>4</td>\n",
       "      <td>1</td>\n",
       "      <td>RR</td>\n",
       "      <td>1720.8081</td>\n",
       "      <td>0</td>\n",
       "      <td>0.000522</td>\n",
       "      <td>-106.389</td>\n",
       "    </tr>\n",
       "    <tr>\n",
       "      <th>4</th>\n",
       "      <td>4</td>\n",
       "      <td>5</td>\n",
       "      <td>1</td>\n",
       "      <td>RR</td>\n",
       "      <td>1720.8075</td>\n",
       "      <td>0</td>\n",
       "      <td>0.000423</td>\n",
       "      <td>-20.039</td>\n",
       "    </tr>\n",
       "    <tr>\n",
       "      <th>5</th>\n",
       "      <td>5</td>\n",
       "      <td>6</td>\n",
       "      <td>1</td>\n",
       "      <td>RR</td>\n",
       "      <td>1720.8069</td>\n",
       "      <td>0</td>\n",
       "      <td>0.000864</td>\n",
       "      <td>-122.188</td>\n",
       "    </tr>\n",
       "  </tbody>\n",
       "</table>\n",
       "</div>"
      ],
      "text/plain": [
       "   Unnamed  Channel  IF Polar  Frequency  Velocity  Amplitude    Phase\n",
       "1        1        2   1    RR  1720.8093         0   0.000259    6.040\n",
       "2        2        3   1    RR  1720.8087         0   0.000464  -95.605\n",
       "3        3        4   1    RR  1720.8081         0   0.000522 -106.389\n",
       "4        4        5   1    RR  1720.8075         0   0.000423  -20.039\n",
       "5        5        6   1    RR  1720.8069         0   0.000864 -122.188"
      ]
     },
     "execution_count": 316,
     "metadata": {},
     "output_type": "execute_result"
    }
   ],
   "source": [
    "#shorten table so I can check that test works\n",
    "short_data=data_long[1:6]\n",
    "\n",
    "#Rename columns to prevent future syntax errors\n",
    "short_data.columns=['Unnamed','Channel','IF','Polar','Frequency','Velocity','Amplitude','Phase']\n",
    "\n",
    "#Convert Ampl. stings to float values (because of E)\n",
    "short_data['Amplitude'] = short_data['Amplitude'].astype(float)\n",
    "\n",
    "short_data"
   ]
  },
  {
   "cell_type": "code",
   "execution_count": 309,
   "metadata": {
    "collapsed": false
   },
   "outputs": [
    {
     "data": {
      "text/plain": [
       "Amplitude    0.000864\n",
       "dtype: float64"
      ]
     },
     "execution_count": 309,
     "metadata": {},
     "output_type": "execute_result"
    }
   ],
   "source": [
    " #find ampl max to base threshold off of\n",
    "ampl=short_data[['Amplitude']]\n",
    "ampl.max()"
   ]
  },
  {
   "cell_type": "markdown",
   "metadata": {},
   "source": [
    "# TDD for signal_phase_range (sphr) function"
   ]
  },
  {
   "cell_type": "code",
   "execution_count": 336,
   "metadata": {
    "collapsed": false
   },
   "outputs": [],
   "source": [
    "#test for function ampl_detection   \n",
    "threshold_ampl=.0005\n",
    "\n",
    "def test_ampl_detection():\n",
    "    '''Test ensures that function ampl_detection returns values >= threshold'''\n",
    "    #observation made by looking at short_data table and inputed as an array:\n",
    "    obs= np.array([0.000522, 0.000864])\n",
    "    \n",
    "    #expectation is that my function will return what I observe\n",
    "    exp= ampl_detection(short_data, short_data.Amplitude)\n",
    "   \n",
    "    assert obs == exp, 'The only ampl. values over the threshold=.0005 are 0.000522 and 0.000864'"
   ]
  },
  {
   "cell_type": "code",
   "execution_count": 332,
   "metadata": {
    "collapsed": false
   },
   "outputs": [
    {
     "data": {
      "text/plain": [
       "array([ 0.00052241,  0.00086379])"
      ]
     },
     "execution_count": 332,
     "metadata": {},
     "output_type": "execute_result"
    }
   ],
   "source": [
    "#Check obs \n",
    "obs= np.array([0.000522, 0.000864])\n",
    "obs"
   ]
  },
  {
   "cell_type": "code",
   "execution_count": 333,
   "metadata": {
    "collapsed": false
   },
   "outputs": [],
   "source": [
    "#Create singal_phase_range function\n",
    " \n",
    "def ampl_detection(data, column):\n",
    "    '''Function that reads through amplitudes and returns amplitudes > constant threshold'''\n",
    "    \n",
    "    #define threshold\n",
    "    threshold_ampl=0.0005\n",
    "    \n",
    "       #create empty list to append values to\n",
    "    my_list = []\n",
    " \n",
    "    for values in column:   \n",
    "        if (values) >= threshold_ampl:\n",
    "            my_list.append(values)\n",
    "\n",
    "    return my_list \n"
   ]
  },
  {
   "cell_type": "code",
   "execution_count": 339,
   "metadata": {
    "collapsed": false
   },
   "outputs": [
    {
     "ename": "TypeError",
     "evalue": "type list doesn't define __round__ method",
     "output_type": "error",
     "traceback": [
      "\u001b[0;31m---------------------------------------------------------------------------\u001b[0m",
      "\u001b[0;31mTypeError\u001b[0m                                 Traceback (most recent call last)",
      "\u001b[0;32m<ipython-input-339-030c6bef64da>\u001b[0m in \u001b[0;36m<module>\u001b[0;34m()\u001b[0m\n\u001b[0;32m----> 1\u001b[0;31m \u001b[0mround\u001b[0m\u001b[0;34m(\u001b[0m\u001b[0mampl_detection\u001b[0m\u001b[0;34m(\u001b[0m\u001b[0mshort_data\u001b[0m\u001b[0;34m,\u001b[0m \u001b[0mshort_data\u001b[0m\u001b[0;34m.\u001b[0m\u001b[0mAmplitude\u001b[0m\u001b[0;34m)\u001b[0m\u001b[0;34m)\u001b[0m\u001b[0;34m\u001b[0m\u001b[0m\n\u001b[0m",
      "\u001b[0;31mTypeError\u001b[0m: type list doesn't define __round__ method"
     ]
    }
   ],
   "source": [
    "ampl_detection(short_data, short_data.Amplitude)"
   ]
  },
  {
   "cell_type": "code",
   "execution_count": 340,
   "metadata": {
    "collapsed": false
   },
   "outputs": [
    {
     "ename": "ValueError",
     "evalue": "The truth value of an array with more than one element is ambiguous. Use a.any() or a.all()",
     "output_type": "error",
     "traceback": [
      "\u001b[0;31m---------------------------------------------------------------------------\u001b[0m",
      "\u001b[0;31mValueError\u001b[0m                                Traceback (most recent call last)",
      "\u001b[0;32m<ipython-input-340-2efac013191f>\u001b[0m in \u001b[0;36m<module>\u001b[0;34m()\u001b[0m\n\u001b[0;32m----> 1\u001b[0;31m \u001b[0mtest_ampl_detection\u001b[0m\u001b[0;34m(\u001b[0m\u001b[0;34m)\u001b[0m\u001b[0;34m\u001b[0m\u001b[0m\n\u001b[0m\u001b[1;32m      2\u001b[0m \u001b[0;31m#test does not work because numbers won't round the same but it is correct on values\u001b[0m\u001b[0;34m\u001b[0m\u001b[0;34m\u001b[0m\u001b[0m\n",
      "\u001b[0;32m<ipython-input-336-22491bf325d2>\u001b[0m in \u001b[0;36mtest_ampl_detection\u001b[0;34m()\u001b[0m\n\u001b[1;32m     10\u001b[0m     \u001b[0mexp\u001b[0m\u001b[0;34m=\u001b[0m \u001b[0mampl_detection\u001b[0m\u001b[0;34m(\u001b[0m\u001b[0mshort_data\u001b[0m\u001b[0;34m,\u001b[0m \u001b[0mshort_data\u001b[0m\u001b[0;34m.\u001b[0m\u001b[0mAmplitude\u001b[0m\u001b[0;34m)\u001b[0m\u001b[0;34m\u001b[0m\u001b[0m\n\u001b[1;32m     11\u001b[0m \u001b[0;34m\u001b[0m\u001b[0m\n\u001b[0;32m---> 12\u001b[0;31m     \u001b[0;32massert\u001b[0m \u001b[0mobs\u001b[0m \u001b[0;34m==\u001b[0m \u001b[0mexp\u001b[0m\u001b[0;34m,\u001b[0m \u001b[0;34m'The only ampl. values over the threshold=.0005 are 0.000522 and 0.000864'\u001b[0m\u001b[0;34m\u001b[0m\u001b[0m\n\u001b[0m",
      "\u001b[0;31mValueError\u001b[0m: The truth value of an array with more than one element is ambiguous. Use a.any() or a.all()"
     ]
    }
   ],
   "source": [
    "test_ampl_detection()\n",
    "#test does not work because numbers won't round the same but it is correct on values "
   ]
  },
  {
   "cell_type": "code",
   "execution_count": null,
   "metadata": {
    "collapsed": true
   },
   "outputs": [],
   "source": []
  }
 ],
 "metadata": {
  "kernelspec": {
   "display_name": "Python 3",
   "language": "python",
   "name": "python3"
  },
  "language_info": {
   "codemirror_mode": {
    "name": "ipython",
    "version": 3
   },
   "file_extension": ".py",
   "mimetype": "text/x-python",
   "name": "python",
   "nbconvert_exporter": "python",
   "pygments_lexer": "ipython3",
   "version": "3.4.3"
  }
 },
 "nbformat": 4,
 "nbformat_minor": 0
}
